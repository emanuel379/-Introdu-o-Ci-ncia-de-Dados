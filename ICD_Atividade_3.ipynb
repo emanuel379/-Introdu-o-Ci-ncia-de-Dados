{
  "nbformat": 4,
  "nbformat_minor": 0,
  "metadata": {
    "colab": {
      "provenance": [],
      "authorship_tag": "ABX9TyPMkPQyRoTf6BF/HIMNF+mp",
      "include_colab_link": true
    },
    "kernelspec": {
      "name": "python3",
      "display_name": "Python 3"
    },
    "language_info": {
      "name": "python"
    }
  },
  "cells": [
    {
      "cell_type": "markdown",
      "metadata": {
        "id": "view-in-github",
        "colab_type": "text"
      },
      "source": [
        "<a href=\"https://colab.research.google.com/github/emanuel379/-Introdu-o-Ci-ncia-de-Dados/blob/main/ICD_Atividade_3.ipynb\" target=\"_parent\"><img src=\"https://colab.research.google.com/assets/colab-badge.svg\" alt=\"Open In Colab\"/></a>"
      ]
    },
    {
      "cell_type": "code",
      "source": [
        "import numpy as np\n",
        "from sklearn.linear_model import LinearRegression\n",
        "import matplotlib.pyplot as plt\n",
        "from statistics import variance\n",
        "import math\n",
        "from sklearn.preprocessing import PolynomialFeatures\n",
        "from sklearn.metrics import r2_score\n",
        "import pandas as pd\n",
        "from sklearn.model_selection import train_test_split\n",
        "from sklearn.linear_model import LinearRegression\n",
        "from statsmodels.formula.api import ols\n",
        "import scipy.stats as ss"
      ],
      "metadata": {
        "id": "ktjytJayHdTW"
      },
      "execution_count": null,
      "outputs": []
    },
    {
      "cell_type": "code",
      "execution_count": null,
      "metadata": {
        "id": "ERz_zMIhQuwC",
        "colab": {
          "base_uri": "https://localhost:8080/",
          "height": 284
        },
        "outputId": "0f243e48-047a-4bde-f6cd-3434e4b46406"
      },
      "outputs": [
        {
          "output_type": "display_data",
          "data": {
            "text/plain": [
              "<Figure size 432x288 with 1 Axes>"
            ],
            "image/png": "[encoded data removed]"
          },
          "metadata": {
            "needs_background": "light"
          }
        }
      ],
      "source": [
        "# 1\n",
        "\n",
        "N = 10 # Amostra\n",
        "x = np.linspace(0,10,N)\n",
        "y = x**3 + np.random.normal(0,50, N)\n",
        "plt.plot(x,y, 'ro', color = 'blue')\n",
        "plt.ylabel(\"y\", fontsize=15)\n",
        "plt.xlabel(\"x\", fontsize=15)\n",
        "\n",
        "plt.show(True)"
      ]
    },
    {
      "cell_type": "code",
      "source": [
        "# Regressão linear\n",
        "\n",
        "def estimate_coef(x, y):\n",
        "    # número de observações/pontos\n",
        "    n = np.size(x)\n",
        "\n",
        "    # médias de x e y\n",
        "    mx, my = np.mean(x), np.mean(y)\n",
        "\n",
        "    # calculating cross-deviation and deviation about x\n",
        "    #SS_xy = np.sum(y*x) - n*m_y*m_x\n",
        "    #SS_xx = np.sum(x*x) - n*m_x*m_x\n",
        "    Sxx = 0 # Variância de x\n",
        "    Sxy = 0 # Covariância de x, y\n",
        "    for i in range(0,len(x)):\n",
        "        Sxy = Sxy + (x[i]-mx)*(y[i]-my)\n",
        "        Sxx = Sxx + (x[i]-mx)**2\n",
        "\n",
        "    # calcula os coeficientes de regressão\n",
        "    b1 = Sxy / Sxx # Beta 1\n",
        "    b0 = my - b1*mx # Beta 0\n",
        "\n",
        "    return(b0, b1)\n",
        "\n",
        "# função para mostrar os dados e o ajuste linear\n",
        "def plot_regression_line(x, y, b):\n",
        "    # mostra os dados\n",
        "    plt.scatter(x, y, color = \"b\", marker = \"o\", s = 50)\n",
        "\n",
        "    # prediz os valores\n",
        "    y_pred = b[0] + b[1]*x\n",
        "\n",
        "    # mostra a reta de regressão\n",
        "    plt.plot(x, y_pred, color = \"r\")\n",
        "    plt.xlabel('x', fontsize = 15)\n",
        "    plt.ylabel('y', fontsize = 15)\n",
        "    plt.show(True)\n",
        "\n",
        "# estima os coeficientes\n",
        "b = estimate_coef(x, y)\n",
        "print(\"Estimated coefficients:\\nb_0 = {}  \\nb_1 = {}\".format(b[0], b[1]))\n",
        "\n",
        "# mostra o ajuste linear\n",
        "plot_regression_line(x, y, b)"
      ],
      "metadata": {
        "colab": {
          "base_uri": "https://localhost:8080/",
          "height": 336
        },
        "id": "TVM_xYC7My0a",
        "outputId": "87c4e647-6d71-41b1-caab-94b9d9107cc6"
      },
      "execution_count": null,
      "outputs": [
        {
          "output_type": "stream",
          "name": "stdout",
          "text": [
            "Estimated coefficients:\n",
            "b_0 = -243.26917665102366  \n",
            "b_1 = 100.4297952579641\n"
          ]
        },
        {
          "output_type": "display_data",
          "data": {
            "text/plain": [
              "<Figure size 432x288 with 1 Axes>"
            ],
            "image/png": "[encoded data removed]"
          },
          "metadata": {
            "needs_background": "light"
          }
        }
      ]
    },
    {
      "cell_type": "code",
      "source": [
        "# Calculando o erro padrão residual\n",
        "\n",
        "#funcao que calcula o RSE\n",
        "def RSE(x,y,b):\n",
        "    n = len(y)\n",
        "    RSE = 0\n",
        "    for i in range(0,n):\n",
        "        y_pred = b[0]+ x[i]*b[1] # valor predito\n",
        "        RSE = RSE + (y[i]-y_pred)**2\n",
        "    RSE = math.sqrt(RSE/(n-2))\n",
        "    return RSE\n",
        "print('RSE:', RSE(x,y,b))"
      ],
      "metadata": {
        "colab": {
          "base_uri": "https://localhost:8080/"
        },
        "id": "jFP5fSTIr_aR",
        "outputId": "7bb4f989-042e-4a0d-b987-2ce9c2d16200"
      },
      "execution_count": null,
      "outputs": [
        {
          "output_type": "stream",
          "name": "stdout",
          "text": [
            "RSE: 169.8427039518019\n"
          ]
        }
      ]
    },
    {
      "cell_type": "code",
      "source": [
        "def R2(x,y,b):\n",
        "    n = len(y)\n",
        "    c1 = 0\n",
        "    c2 = 0\n",
        "    ym = np.mean(y)\n",
        "    for i in range(0,n):\n",
        "        y_pred = b[0]+ x[i]*b[1] # valor predito\n",
        "        c1 = c1 + (y[i]-y_pred)**2\n",
        "        c2 = c2 + (y[i]-ym)**2\n",
        "    R2 = 1 - c1/c2\n",
        "    return R2\n",
        "\n",
        "R2(x, y, b)"
      ],
      "metadata": {
        "colab": {
          "base_uri": "https://localhost:8080/"
        },
        "id": "tY1VeszPrbn-",
        "outputId": "1c3d8d0b-200c-4b8e-bb17-2f53f5ad5325"
      },
      "execution_count": null,
      "outputs": [
        {
          "output_type": "execute_result",
          "data": {
            "text/plain": [
              "0.8165656034529465"
            ]
          },
          "metadata": {},
          "execution_count": 65
        }
      ]
    },
    {
      "cell_type": "code",
      "source": [
        "# Regressão polinômial de grau 3\n",
        "\n",
        "# define a transformação nos dados\n",
        "transformer = PolynomialFeatures(degree = 3, include_bias=False)\n",
        "x = x.reshape((-1, 1))\n",
        "transformer.fit(x)\n",
        "print('Dados originais:\\n', x)\n",
        "\n",
        "# transforma os dados incluindo uma nova coluna com valores quadráticos\n",
        "x_ = transformer.transform(x)\n",
        "print('Novos dados:\\n', x_)"
      ],
      "metadata": {
        "colab": {
          "base_uri": "https://localhost:8080/"
        },
        "id": "Th4MbQ95NzCk",
        "outputId": "481a4a88-a300-41f4-b152-6f0b6cd9e8a0"
      },
      "execution_count": null,
      "outputs": [
        {
          "output_type": "stream",
          "name": "stdout",
          "text": [
            "Dados originais:\n",
            " [[ 0.        ]\n",
            " [ 1.11111111]\n",
            " [ 2.22222222]\n",
            " [ 3.33333333]\n",
            " [ 4.44444444]\n",
            " [ 5.55555556]\n",
            " [ 6.66666667]\n",
            " [ 7.77777778]\n",
            " [ 8.88888889]\n",
            " [10.        ]]\n",
            "Novos dados:\n",
            " [[   0.            0.            0.        ]\n",
            " [   1.11111111    1.2345679     1.37174211]\n",
            " [   2.22222222    4.9382716    10.9739369 ]\n",
            " [   3.33333333   11.11111111   37.03703704]\n",
            " [   4.44444444   19.75308642   87.7914952 ]\n",
            " [   5.55555556   30.86419753  171.46776406]\n",
            " [   6.66666667   44.44444444  296.2962963 ]\n",
            " [   7.77777778   60.49382716  470.50754458]\n",
            " [   8.88888889   79.01234568  702.33196159]\n",
            " [  10.          100.         1000.        ]]\n"
          ]
        }
      ]
    },
    {
      "cell_type": "code",
      "source": [
        "# Gerando dados para regressão linear com nossos dados linearizados na forma de função polinomial\n",
        "\n",
        "model = LinearRegression().fit(x_, y)\n",
        "y_pred = model.predict(x_)\n",
        "\n",
        "fig = plt.figure()\n",
        "l = plt.plot(y_pred, y, 'bo')\n",
        "plt.setp(l, markersize=10)\n",
        "plt.setp(l, markerfacecolor='C0')\n",
        "\n",
        "plt.ylabel(\"y\", fontsize=15)\n",
        "plt.xlabel(\"Prediction\", fontsize=15)\n",
        "\n",
        "# mostra a reta diagonal, que representa a predição perfeita\n",
        "xl = np.arange(min(y), 1.2*max(y),(max(y)-min(y))/10)\n",
        "yl = xl\n",
        "plt.plot(xl, yl, 'r--')\n",
        "\n",
        "plt.show(True)"
      ],
      "metadata": {
        "colab": {
          "base_uri": "https://localhost:8080/",
          "height": 285
        },
        "id": "jgueHZWAOZO8",
        "outputId": "884732c1-d5eb-483c-b1a7-812fb46c7028"
      },
      "execution_count": null,
      "outputs": [
        {
          "output_type": "display_data",
          "data": {
            "text/plain": [
              "<Figure size 432x288 with 1 Axes>"
            ],
            "image/png": "[encoded data removed]"
          },
          "metadata": {
            "needs_background": "light"
          }
        }
      ]
    },
    {
      "cell_type": "code",
      "source": [
        "# Gráfico original da regressão polinomial\n",
        "\n",
        "plt.plot(x,y, 'ro', label='Dados originais')\n",
        "plt.plot(x,y_pred, 'bo-', label = 'Dados preditos')\n",
        "plt.ylabel(\"y\", fontsize=15)\n",
        "plt.xlabel(\"x\", fontsize=15)\n",
        "plt.legend()\n",
        "plt.show(True)"
      ],
      "metadata": {
        "colab": {
          "base_uri": "https://localhost:8080/",
          "height": 284
        },
        "id": "zXCsDbapPZE2",
        "outputId": "834738f5-658c-4c3e-eaa2-7f010d3e15c2"
      },
      "execution_count": null,
      "outputs": [
        {
          "output_type": "display_data",
          "data": {
            "text/plain": [
              "<Figure size 432x288 with 1 Axes>"
            ],
            "image/png": "[encoded data removed]"
          },
          "metadata": {
            "needs_background": "light"
          }
        }
      ]
    },
    {
      "cell_type": "code",
      "source": [
        "# Analisando a adequação do modelo a nossa amostra com o R^2 = (corr(x, y))^2\n",
        "# Quanto mais próximo de 1, mais bem ajustado\n",
        "\n",
        "R2 = r2_score(y, y_pred)\n",
        "print('R2:', R2)"
      ],
      "metadata": {
        "colab": {
          "base_uri": "https://localhost:8080/"
        },
        "id": "UqxJA0WgRrii",
        "outputId": "d7532bb9-3b47-49ae-a8f2-2f118a457e99"
      },
      "execution_count": null,
      "outputs": [
        {
          "output_type": "stream",
          "name": "stdout",
          "text": [
            "R2: 0.9918753900555265\n"
          ]
        }
      ]
    },
    {
      "cell_type": "code",
      "source": [
        "# Repetindo o mesmo processo em uma Regressão polinômial de grau 5\n",
        "\n",
        "# define a transformação nos dados\n",
        "transformer = PolynomialFeatures(degree = 5, include_bias=False)\n",
        "x = x.reshape((-1, 1))\n",
        "transformer.fit(x)\n",
        "print('Dados originais:\\n', x)\n",
        "\n",
        "# transforma os dados incluindo uma nova coluna com valores quadráticos\n",
        "x_ = transformer.transform(x)\n",
        "print('Novos dados:\\n', x_)"
      ],
      "metadata": {
        "colab": {
          "base_uri": "https://localhost:8080/"
        },
        "id": "q20Br5I-PvyQ",
        "outputId": "515ad4a4-b31a-4b00-8aec-5e9195bca4a9"
      },
      "execution_count": null,
      "outputs": [
        {
          "output_type": "stream",
          "name": "stdout",
          "text": [
            "Dados originais:\n",
            " [[ 0.        ]\n",
            " [ 1.11111111]\n",
            " [ 2.22222222]\n",
            " [ 3.33333333]\n",
            " [ 4.44444444]\n",
            " [ 5.55555556]\n",
            " [ 6.66666667]\n",
            " [ 7.77777778]\n",
            " [ 8.88888889]\n",
            " [10.        ]]\n",
            "Novos dados:\n",
            " [[0.00000000e+00 0.00000000e+00 0.00000000e+00 0.00000000e+00\n",
            "  0.00000000e+00]\n",
            " [1.11111111e+00 1.23456790e+00 1.37174211e+00 1.52415790e+00\n",
            "  1.69350878e+00]\n",
            " [2.22222222e+00 4.93827160e+00 1.09739369e+01 2.43865264e+01\n",
            "  5.41922810e+01]\n",
            " [3.33333333e+00 1.11111111e+01 3.70370370e+01 1.23456790e+02\n",
            "  4.11522634e+02]\n",
            " [4.44444444e+00 1.97530864e+01 8.77914952e+01 3.90184423e+02\n",
            "  1.73415299e+03]\n",
            " [5.55555556e+00 3.08641975e+01 1.71467764e+02 9.52598689e+02\n",
            "  5.29221494e+03]\n",
            " [6.66666667e+00 4.44444444e+01 2.96296296e+02 1.97530864e+03\n",
            "  1.31687243e+04]\n",
            " [7.77777778e+00 6.04938272e+01 4.70507545e+02 3.65950312e+03\n",
            "  2.84628021e+04]\n",
            " [8.88888889e+00 7.90123457e+01 7.02331962e+02 6.24295077e+03\n",
            "  5.54928957e+04]\n",
            " [1.00000000e+01 1.00000000e+02 1.00000000e+03 1.00000000e+04\n",
            "  1.00000000e+05]]\n"
          ]
        }
      ]
    },
    {
      "cell_type": "code",
      "source": [
        "# Gerando dados para regressão linear com nossos dados linearizados na forma de função polinomial\n",
        "\n",
        "model = LinearRegression().fit(x_, y)\n",
        "y_pred = model.predict(x_)\n",
        "\n",
        "fig = plt.figure()\n",
        "l = plt.plot(y_pred, y, 'bo')\n",
        "plt.setp(l, markersize=10)\n",
        "plt.setp(l, markerfacecolor='C0')\n",
        "\n",
        "plt.ylabel(\"y\", fontsize=15)\n",
        "plt.xlabel(\"Prediction\", fontsize=15)\n",
        "\n",
        "# mostra a reta diagonal, que representa a predição perfeita\n",
        "xl = np.arange(min(y), 1.2*max(y),(max(y)-min(y))/10)\n",
        "yl = xl\n",
        "plt.plot(xl, yl, 'r--')\n",
        "\n",
        "plt.show(True)"
      ],
      "metadata": {
        "colab": {
          "base_uri": "https://localhost:8080/",
          "height": 285
        },
        "id": "_bypP9zrP9Ba",
        "outputId": "f9deb899-285d-4f7b-b5c3-ee947a3fccb0"
      },
      "execution_count": null,
      "outputs": [
        {
          "output_type": "display_data",
          "data": {
            "text/plain": [
              "<Figure size 432x288 with 1 Axes>"
            ],
            "image/png": "[encoded data removed]"
          },
          "metadata": {
            "needs_background": "light"
          }
        }
      ]
    },
    {
      "cell_type": "code",
      "source": [
        "# Gráfico original da regressão polinomial\n",
        "\n",
        "plt.plot(x,y, 'ro', label='Dados originais')\n",
        "plt.plot(x,y_pred, 'bo-', label = 'Dados preditos')\n",
        "plt.ylabel(\"y\", fontsize=15)\n",
        "plt.xlabel(\"x\", fontsize=15)\n",
        "plt.legend()\n",
        "plt.show(True)"
      ],
      "metadata": {
        "colab": {
          "base_uri": "https://localhost:8080/",
          "height": 284
        },
        "id": "p0BuztYlQH0r",
        "outputId": "adc1d792-1405-42bb-b8b1-15b395d7971e"
      },
      "execution_count": null,
      "outputs": [
        {
          "output_type": "display_data",
          "data": {
            "text/plain": [
              "<Figure size 432x288 with 1 Axes>"
            ],
            "image/png": "[encoded data removed]"
          },
          "metadata": {
            "needs_background": "light"
          }
        }
      ]
    },
    {
      "cell_type": "code",
      "source": [
        "# Analisando a adequação do modelo a nossa amostra com o R^2 = (corr(x, y))^2\n",
        "# Quanto mais próximo de 1, mais bem ajustado\n",
        "\n",
        "R2 = r2_score(y, y_pred)\n",
        "print('R2:', R2)"
      ],
      "metadata": {
        "colab": {
          "base_uri": "https://localhost:8080/"
        },
        "id": "rzbLOx4vQOoC",
        "outputId": "5080b3d5-c74e-4a50-864b-f54d78a1bad2"
      },
      "execution_count": null,
      "outputs": [
        {
          "output_type": "stream",
          "name": "stdout",
          "text": [
            "R2: 0.9942397793279116\n"
          ]
        }
      ]
    },
    {
      "cell_type": "code",
      "source": [
        "# Repetindo o mesmo processo em uma Regressão polinômial de grau 10\n",
        "\n",
        "# define a transformação nos dados\n",
        "transformer = PolynomialFeatures(degree = 10, include_bias=False)\n",
        "x = x.reshape((-1, 1))\n",
        "transformer.fit(x)\n",
        "print('Dados originais:\\n', x)\n",
        "\n",
        "# transforma os dados incluindo uma nova coluna com valores quadráticos\n",
        "x_ = transformer.transform(x)\n",
        "print('Novos dados:\\n', x_)"
      ],
      "metadata": {
        "colab": {
          "base_uri": "https://localhost:8080/"
        },
        "id": "7RdNrFBgSI6Z",
        "outputId": "9b69d3a6-fda6-4ed3-88b8-bc38ad0f150b"
      },
      "execution_count": null,
      "outputs": [
        {
          "output_type": "stream",
          "name": "stdout",
          "text": [
            "Dados originais:\n",
            " [[ 0.        ]\n",
            " [ 1.11111111]\n",
            " [ 2.22222222]\n",
            " [ 3.33333333]\n",
            " [ 4.44444444]\n",
            " [ 5.55555556]\n",
            " [ 6.66666667]\n",
            " [ 7.77777778]\n",
            " [ 8.88888889]\n",
            " [10.        ]]\n",
            "Novos dados:\n",
            " [[0.00000000e+00 0.00000000e+00 0.00000000e+00 0.00000000e+00\n",
            "  0.00000000e+00 0.00000000e+00 0.00000000e+00 0.00000000e+00\n",
            "  0.00000000e+00 0.00000000e+00]\n",
            " [1.11111111e+00 1.23456790e+00 1.37174211e+00 1.52415790e+00\n",
            "  1.69350878e+00 1.88167642e+00 2.09075158e+00 2.32305731e+00\n",
            "  2.58117479e+00 2.86797199e+00]\n",
            " [2.22222222e+00 4.93827160e+00 1.09739369e+01 2.43865264e+01\n",
            "  5.41922810e+01 1.20427291e+02 2.67616202e+02 5.94702672e+02\n",
            "  1.32156149e+03 2.93680332e+03]\n",
            " [3.33333333e+00 1.11111111e+01 3.70370370e+01 1.23456790e+02\n",
            "  4.11522634e+02 1.37174211e+03 4.57247371e+03 1.52415790e+04\n",
            "  5.08052634e+04 1.69350878e+05]\n",
            " [4.44444444e+00 1.97530864e+01 8.77914952e+01 3.90184423e+02\n",
            "  1.73415299e+03 7.70734663e+03 3.42548739e+04 1.52243884e+05\n",
            "  6.76639485e+05 3.00728660e+06]\n",
            " [5.55555556e+00 3.08641975e+01 1.71467764e+02 9.52598689e+02\n",
            "  5.29221494e+03 2.94011941e+04 1.63339967e+05 9.07444263e+05\n",
            "  5.04135702e+06 2.80075390e+07]\n",
            " [6.66666667e+00 4.44444444e+01 2.96296296e+02 1.97530864e+03\n",
            "  1.31687243e+04 8.77914952e+04 5.85276635e+05 3.90184423e+06\n",
            "  2.60122949e+07 1.73415299e+08]\n",
            " [7.77777778e+00 6.04938272e+01 4.70507545e+02 3.65950312e+03\n",
            "  2.84628021e+04 2.21377350e+05 1.72182383e+06 1.33919631e+07\n",
            "  1.04159713e+08 8.10131102e+08]\n",
            " [8.88888889e+00 7.90123457e+01 7.02331962e+02 6.24295077e+03\n",
            "  5.54928957e+04 4.93270184e+05 4.38462386e+06 3.89744343e+07\n",
            "  3.46439416e+08 3.07946148e+09]\n",
            " [1.00000000e+01 1.00000000e+02 1.00000000e+03 1.00000000e+04\n",
            "  1.00000000e+05 1.00000000e+06 1.00000000e+07 1.00000000e+08\n",
            "  1.00000000e+09 1.00000000e+10]]\n"
          ]
        }
      ]
    },
    {
      "cell_type": "code",
      "source": [
        "# Gerando dados para regressão linear com nossos dados linearizados na forma de função polinomial\n",
        "\n",
        "model = LinearRegression().fit(x_, y)\n",
        "y_pred = model.predict(x_)\n",
        "\n",
        "fig = plt.figure()\n",
        "l = plt.plot(y_pred, y, 'bo')\n",
        "plt.setp(l, markersize=10)\n",
        "plt.setp(l, markerfacecolor='C0')\n",
        "\n",
        "plt.ylabel(\"y\", fontsize=15)\n",
        "plt.xlabel(\"Prediction\", fontsize=15)\n",
        "\n",
        "# mostra a reta diagonal, que representa a predição perfeita\n",
        "xl = np.arange(min(y), 1.2*max(y),(max(y)-min(y))/10)\n",
        "yl = xl\n",
        "plt.plot(xl, yl, 'r--')\n",
        "\n",
        "plt.show(True)"
      ],
      "metadata": {
        "colab": {
          "base_uri": "https://localhost:8080/",
          "height": 285
        },
        "id": "r8H_I7vPSfFG",
        "outputId": "ab3c80ed-a354-4836-cbbc-6cfb5806e02d"
      },
      "execution_count": null,
      "outputs": [
        {
          "output_type": "display_data",
          "data": {
            "text/plain": [
              "<Figure size 432x288 with 1 Axes>"
            ],
            "image/png": "[encoded data removed]"
          },
          "metadata": {
            "needs_background": "light"
          }
        }
      ]
    },
    {
      "cell_type": "code",
      "source": [
        "# Gráfico original da regressão polinomial\n",
        "\n",
        "plt.plot(x,y, 'ro', label='Dados originais')\n",
        "plt.plot(x,y_pred, 'bo-', label = 'Dados preditos')\n",
        "plt.ylabel(\"y\", fontsize=15)\n",
        "plt.xlabel(\"x\", fontsize=15)\n",
        "plt.legend()\n",
        "plt.show(True)"
      ],
      "metadata": {
        "colab": {
          "base_uri": "https://localhost:8080/",
          "height": 284
        },
        "id": "h3yo9uChSpmx",
        "outputId": "5e8cb2f0-fe2e-4304-bed5-e646f84e06b2"
      },
      "execution_count": null,
      "outputs": [
        {
          "output_type": "display_data",
          "data": {
            "text/plain": [
              "<Figure size 432x288 with 1 Axes>"
            ],
            "image/png": "[encoded data removed]"
          },
          "metadata": {
            "needs_background": "light"
          }
        }
      ]
    },
    {
      "cell_type": "code",
      "source": [
        "# Analisando a adequação do modelo a nossa amostra com o R^2 = (corr(x, y))^2\n",
        "# Quanto mais próximo de 1, mais bem ajustado\n",
        "\n",
        "R2 = r2_score(y, y_pred)\n",
        "print('R2:', R2)"
      ],
      "metadata": {
        "colab": {
          "base_uri": "https://localhost:8080/"
        },
        "id": "07He3yXETDED",
        "outputId": "39c3fef1-69d9-4469-b339-032343a1ab33"
      },
      "execution_count": null,
      "outputs": [
        {
          "output_type": "stream",
          "name": "stdout",
          "text": [
            "R2: 0.9999999999996726\n"
          ]
        }
      ]
    },
    {
      "cell_type": "code",
      "source": [
        "# 2\n",
        "\n",
        "\n",
        "from zipfile import ZipFile\n",
        "file_name = 'data (4).zip'\n",
        "with ZipFile(file_name, 'r') as zip:\n",
        "\n",
        "    zip.printdir()\n",
        "\n",
        "\n",
        "    print('Extracting all the files now...')\n",
        "    zip.extractall()\n",
        "    print('Done!')\n"
      ],
      "metadata": {
        "id": "21T1BZOqTwSj",
        "colab": {
          "base_uri": "https://localhost:8080/"
        },
        "outputId": "f070e1e7-c188-4f05-af15-7e865bb211e2"
      },
      "execution_count": null,
      "outputs": [
        {
          "output_type": "stream",
          "name": "stdout",
          "text": [
            "File Name                                             Modified             Size\n",
            "data/                                          2020-11-16 23:34:20            0\n",
            "__MACOSX/._data                                2020-11-16 23:34:20          177\n",
            "data/houses_to_rent.csv                        2020-03-15 01:12:22       471498\n",
            "__MACOSX/data/._houses_to_rent.csv             2020-03-15 01:12:22          426\n",
            "data/Advertising.csv                           2019-09-26 05:11:42         4756\n",
            "__MACOSX/data/._Advertising.csv                2019-09-26 05:11:42          426\n",
            "data/breastcancer_test.csv                     2018-03-24 16:58:30         4762\n",
            "__MACOSX/data/._breastcancer_test.csv          2018-03-24 16:58:30          389\n",
            "data/.DS_Store                                 2020-11-16 23:34:52         6148\n",
            "__MACOSX/data/._.DS_Store                      2020-11-16 23:34:52          120\n",
            "data/breastcancer_training.csv                 2018-03-24 16:58:30         7892\n",
            "__MACOSX/data/._breastcancer_training.csv      2018-03-24 16:58:30          389\n",
            "data/Vehicle.csv                               2018-03-24 16:58:30        57003\n",
            "__MACOSX/data/._Vehicle.csv                    2018-03-24 16:58:30          388\n",
            "data/concrete_data.csv                         2019-09-21 01:26:24        59010\n",
            "__MACOSX/data/._concrete_data.csv              2019-09-21 01:26:24          370\n",
            "data/iris-with-errors.csv                      2019-02-26 20:30:40          639\n",
            "__MACOSX/data/._iris-with-errors.csv           2019-02-26 20:30:40          499\n",
            "data/winequality-red.csv                       2020-03-21 11:36:06       100951\n",
            "__MACOSX/data/._winequality-red.csv            2020-03-21 11:36:06         1277\n",
            "data/iris.csv                                  2019-02-26 20:13:08         3716\n",
            "__MACOSX/data/._iris.csv                       2019-02-26 20:13:08          511\n",
            "data/BreastCancer.csv                          2018-03-24 16:58:30        33993\n",
            "__MACOSX/data/._BreastCancer.csv               2018-03-24 16:58:30          389\n",
            "data/BostonHousing.csv                         2018-03-24 16:58:30        35735\n",
            "__MACOSX/data/._BostonHousing.csv              2018-03-24 16:58:30          389\n",
            "data/titanic/                                  2020-02-08 23:16:18            0\n",
            "__MACOSX/data/._titanic                        2020-02-08 23:16:18          270\n",
            "data/titanic.zip                               2020-11-16 23:34:20        36232\n",
            "__MACOSX/data/._titanic.zip                    2020-11-16 23:34:20          178\n",
            "data/vertebralcolumn-2C.csv                    2020-01-09 03:53:18        20998\n",
            "__MACOSX/data/._vertebralcolumn-2C.csv         2020-01-09 03:53:18          270\n",
            "data/vertebralcolumn-3C.csv                    2020-01-09 03:53:18        22228\n",
            "__MACOSX/data/._vertebralcolumn-3C.csv         2020-01-09 03:53:18          270\n",
            "data/opsd_germany_daily.csv                    2019-12-30 23:40:16       217983\n",
            "__MACOSX/data/._opsd_germany_daily.csv         2019-12-30 23:40:16          590\n",
            "data/titanic/test.csv                          2019-12-11 02:17:12        28629\n",
            "__MACOSX/data/titanic/._test.csv               2019-12-11 02:17:12          270\n",
            "data/titanic/train.csv                         2019-12-11 02:17:12        61194\n",
            "__MACOSX/data/titanic/._train.csv              2019-12-11 02:17:12          270\n",
            "data/titanic/gender_submission.csv             2019-12-11 02:17:12         3258\n",
            "__MACOSX/data/titanic/._gender_submission.csv  2019-12-11 02:17:12          270\n",
            "Extracting all the files now...\n",
            "Done!\n"
          ]
        }
      ]
    },
    {
      "cell_type": "code",
      "source": [
        "df =  pd.read_csv('data/BostonHousing.csv')\n",
        "df"
      ],
      "metadata": {
        "colab": {
          "base_uri": "https://localhost:8080/",
          "height": 424
        },
        "id": "T99ZLZrjb25P",
        "outputId": "7a1be101-ef3c-48b8-f341-c280f627a1d8"
      },
      "execution_count": null,
      "outputs": [
        {
          "output_type": "execute_result",
          "data": {
            "text/plain": [
              "        crim    zn  indus  chas    nox     rm   age     dis  rad  tax  \\\n",
              "0    0.00632  18.0   2.31     0  0.538  6.575  65.2  4.0900    1  296   \n",
              "1    0.02731   0.0   7.07     0  0.469  6.421  78.9  4.9671    2  242   \n",
              "2    0.02729   0.0   7.07     0  0.469  7.185  61.1  4.9671    2  242   \n",
              "3    0.03237   0.0   2.18     0  0.458  6.998  45.8  6.0622    3  222   \n",
              "4    0.06905   0.0   2.18     0  0.458  7.147  54.2  6.0622    3  222   \n",
              "..       ...   ...    ...   ...    ...    ...   ...     ...  ...  ...   \n",
              "501  0.06263   0.0  11.93     0  0.573  6.593  69.1  2.4786    1  273   \n",
              "502  0.04527   0.0  11.93     0  0.573  6.120  76.7  2.2875    1  273   \n",
              "503  0.06076   0.0  11.93     0  0.573  6.976  91.0  2.1675    1  273   \n",
              "504  0.10959   0.0  11.93     0  0.573  6.794  89.3  2.3889    1  273   \n",
              "505  0.04741   0.0  11.93     0  0.573  6.030  80.8  2.5050    1  273   \n",
              "\n",
              "     ptratio       b  lstat  medv  \n",
              "0       15.3  396.90   4.98  24.0  \n",
              "1       17.8  396.90   9.14  21.6  \n",
              "2       17.8  392.83   4.03  34.7  \n",
              "3       18.7  394.63   2.94  33.4  \n",
              "4       18.7  396.90   5.33  36.2  \n",
              "..       ...     ...    ...   ...  \n",
              "501     21.0  391.99   9.67  22.4  \n",
              "502     21.0  396.90   9.08  20.6  \n",
              "503     21.0  396.90   5.64  23.9  \n",
              "504     21.0  393.45   6.48  22.0  \n",
              "505     21.0  396.90   7.88  11.9  \n",
              "\n",
              "[506 rows x 14 columns]"
            ],
            "text/html": [
              "\n",
              "  <div id=\"df-ad651369-c479-42d4-95ec-cd4a6f1511b1\">\n",
              "    <div class=\"colab-df-container\">\n",
              "      <div>\n",
              "<style scoped>\n",
              "    .dataframe tbody tr th:only-of-type {\n",
              "        vertical-align: middle;\n",
              "    }\n",
              "\n",
              "    .dataframe tbody tr th {\n",
              "        vertical-align: top;\n",
              "    }\n",
              "\n",
              "    .dataframe thead th {\n",
              "        text-align: right;\n",
              "    }\n",
              "</style>\n",
              "<table border=\"1\" class=\"dataframe\">\n",
              "  <thead>\n",
              "    <tr style=\"text-align: right;\">\n",
              "      <th></th>\n",
              "      <th>crim</th>\n",
              "      <th>zn</th>\n",
              "      <th>indus</th>\n",
              "      <th>chas</th>\n",
              "      <th>nox</th>\n",
              "      <th>rm</th>\n",
              "      <th>age</th>\n",
              "      <th>dis</th>\n",
              "      <th>rad</th>\n",
              "      <th>tax</th>\n",
              "      <th>ptratio</th>\n",
              "      <th>b</th>\n",
              "      <th>lstat</th>\n",
              "      <th>medv</th>\n",
              "    </tr>\n",
              "  </thead>\n",
              "  <tbody>\n",
              "    <tr>\n",
              "      <th>0</th>\n",
              "      <td>0.00632</td>\n",
              "      <td>18.0</td>\n",
              "      <td>2.31</td>\n",
              "      <td>0</td>\n",
              "      <td>0.538</td>\n",
              "      <td>6.575</td>\n",
              "      <td>65.2</td>\n",
              "      <td>4.0900</td>\n",
              "      <td>1</td>\n",
              "      <td>296</td>\n",
              "      <td>15.3</td>\n",
              "      <td>396.90</td>\n",
              "      <td>4.98</td>\n",
              "      <td>24.0</td>\n",
              "    </tr>\n",
              "    <tr>\n",
              "      <th>1</th>\n",
              "      <td>0.02731</td>\n",
              "      <td>0.0</td>\n",
              "      <td>7.07</td>\n",
              "      <td>0</td>\n",
              "      <td>0.469</td>\n",
              "      <td>6.421</td>\n",
              "      <td>78.9</td>\n",
              "      <td>4.9671</td>\n",
              "      <td>2</td>\n",
              "      <td>242</td>\n",
              "      <td>17.8</td>\n",
              "      <td>396.90</td>\n",
              "      <td>9.14</td>\n",
              "      <td>21.6</td>\n",
              "    </tr>\n",
              "    <tr>\n",
              "      <th>2</th>\n",
              "      <td>0.02729</td>\n",
              "      <td>0.0</td>\n",
              "      <td>7.07</td>\n",
              "      <td>0</td>\n",
              "      <td>0.469</td>\n",
              "      <td>7.185</td>\n",
              "      <td>61.1</td>\n",
              "      <td>4.9671</td>\n",
              "      <td>2</td>\n",
              "      <td>242</td>\n",
              "      <td>17.8</td>\n",
              "      <td>392.83</td>\n",
              "      <td>4.03</td>\n",
              "      <td>34.7</td>\n",
              "    </tr>\n",
              "    <tr>\n",
              "      <th>3</th>\n",
              "      <td>0.03237</td>\n",
              "      <td>0.0</td>\n",
              "      <td>2.18</td>\n",
              "      <td>0</td>\n",
              "      <td>0.458</td>\n",
              "      <td>6.998</td>\n",
              "      <td>45.8</td>\n",
              "      <td>6.0622</td>\n",
              "      <td>3</td>\n",
              "      <td>222</td>\n",
              "      <td>18.7</td>\n",
              "      <td>394.63</td>\n",
              "      <td>2.94</td>\n",
              "      <td>33.4</td>\n",
              "    </tr>\n",
              "    <tr>\n",
              "      <th>4</th>\n",
              "      <td>0.06905</td>\n",
              "      <td>0.0</td>\n",
              "      <td>2.18</td>\n",
              "      <td>0</td>\n",
              "      <td>0.458</td>\n",
              "      <td>7.147</td>\n",
              "      <td>54.2</td>\n",
              "      <td>6.0622</td>\n",
              "      <td>3</td>\n",
              "      <td>222</td>\n",
              "      <td>18.7</td>\n",
              "      <td>396.90</td>\n",
              "      <td>5.33</td>\n",
              "      <td>36.2</td>\n",
              "    </tr>\n",
              "    <tr>\n",
              "      <th>...</th>\n",
              "      <td>...</td>\n",
              "      <td>...</td>\n",
              "      <td>...</td>\n",
              "      <td>...</td>\n",
              "      <td>...</td>\n",
              "      <td>...</td>\n",
              "      <td>...</td>\n",
              "      <td>...</td>\n",
              "      <td>...</td>\n",
              "      <td>...</td>\n",
              "      <td>...</td>\n",
              "      <td>...</td>\n",
              "      <td>...</td>\n",
              "      <td>...</td>\n",
              "    </tr>\n",
              "    <tr>\n",
              "      <th>501</th>\n",
              "      <td>0.06263</td>\n",
              "      <td>0.0</td>\n",
              "      <td>11.93</td>\n",
              "      <td>0</td>\n",
              "      <td>0.573</td>\n",
              "      <td>6.593</td>\n",
              "      <td>69.1</td>\n",
              "      <td>2.4786</td>\n",
              "      <td>1</td>\n",
              "      <td>273</td>\n",
              "      <td>21.0</td>\n",
              "      <td>391.99</td>\n",
              "      <td>9.67</td>\n",
              "      <td>22.4</td>\n",
              "    </tr>\n",
              "    <tr>\n",
              "      <th>502</th>\n",
              "      <td>0.04527</td>\n",
              "      <td>0.0</td>\n",
              "      <td>11.93</td>\n",
              "      <td>0</td>\n",
              "      <td>0.573</td>\n",
              "      <td>6.120</td>\n",
              "      <td>76.7</td>\n",
              "      <td>2.2875</td>\n",
              "      <td>1</td>\n",
              "      <td>273</td>\n",
              "      <td>21.0</td>\n",
              "      <td>396.90</td>\n",
              "      <td>9.08</td>\n",
              "      <td>20.6</td>\n",
              "    </tr>\n",
              "    <tr>\n",
              "      <th>503</th>\n",
              "      <td>0.06076</td>\n",
              "      <td>0.0</td>\n",
              "      <td>11.93</td>\n",
              "      <td>0</td>\n",
              "      <td>0.573</td>\n",
              "      <td>6.976</td>\n",
              "      <td>91.0</td>\n",
              "      <td>2.1675</td>\n",
              "      <td>1</td>\n",
              "      <td>273</td>\n",
              "      <td>21.0</td>\n",
              "      <td>396.90</td>\n",
              "      <td>5.64</td>\n",
              "      <td>23.9</td>\n",
              "    </tr>\n",
              "    <tr>\n",
              "      <th>504</th>\n",
              "      <td>0.10959</td>\n",
              "      <td>0.0</td>\n",
              "      <td>11.93</td>\n",
              "      <td>0</td>\n",
              "      <td>0.573</td>\n",
              "      <td>6.794</td>\n",
              "      <td>89.3</td>\n",
              "      <td>2.3889</td>\n",
              "      <td>1</td>\n",
              "      <td>273</td>\n",
              "      <td>21.0</td>\n",
              "      <td>393.45</td>\n",
              "      <td>6.48</td>\n",
              "      <td>22.0</td>\n",
              "    </tr>\n",
              "    <tr>\n",
              "      <th>505</th>\n",
              "      <td>0.04741</td>\n",
              "      <td>0.0</td>\n",
              "      <td>11.93</td>\n",
              "      <td>0</td>\n",
              "      <td>0.573</td>\n",
              "      <td>6.030</td>\n",
              "      <td>80.8</td>\n",
              "      <td>2.5050</td>\n",
              "      <td>1</td>\n",
              "      <td>273</td>\n",
              "      <td>21.0</td>\n",
              "      <td>396.90</td>\n",
              "      <td>7.88</td>\n",
              "      <td>11.9</td>\n",
              "    </tr>\n",
              "  </tbody>\n",
              "</table>\n",
              "<p>506 rows × 14 columns</p>\n",
              "</div>\n",
              "      <button class=\"colab-df-convert\" onclick=\"convertToInteractive('df-ad651369-c479-42d4-95ec-cd4a6f1511b1')\"\n",
              "              title=\"Convert this dataframe to an interactive table.\"\n",
              "              style=\"display:none;\">\n",
              "        \n",
              "  <svg xmlns=\"http://www.w3.org/2000/svg\" height=\"24px\"viewBox=\"0 0 24 24\"\n",
              "       width=\"24px\">\n",
              "    <path d=\"M0 0h24v24H0V0z\" fill=\"none\"/>\n",
              "    <path d=\"M18.56 5.44l.94 2.06.94-2.06 2.06-.94-2.06-.94-.94-2.06-.94 2.06-2.06.94zm-11 1L8.5 8.5l.94-2.06 2.06-.94-2.06-.94L8.5 2.5l-.94 2.06-2.06.94zm10 10l.94 2.06.94-2.06 2.06-.94-2.06-.94-.94-2.06-.94 2.06-2.06.94z\"/><path d=\"M17.41 7.96l-1.37-1.37c-.4-.4-.92-.59-1.43-.59-.52 0-1.04.2-1.43.59L10.3 9.45l-7.72 7.72c-.78.78-.78 2.05 0 2.83L4 21.41c.39.39.9.59 1.41.59.51 0 1.02-.2 1.41-.59l7.78-7.78 2.81-2.81c.8-.78.8-2.07 0-2.86zM5.41 20L4 18.59l7.72-7.72 1.47 1.35L5.41 20z\"/>\n",
              "  </svg>\n",
              "      </button>\n",
              "      \n",
              "  <style>\n",
              "    .colab-df-container {\n",
              "      display:flex;\n",
              "      flex-wrap:wrap;\n",
              "      gap: 12px;\n",
              "    }\n",
              "\n",
              "    .colab-df-convert {\n",
              "      background-color: #E8F0FE;\n",
              "      border: none;\n",
              "      border-radius: 50%;\n",
              "      cursor: pointer;\n",
              "      display: none;\n",
              "      fill: #1967D2;\n",
              "      height: 32px;\n",
              "      padding: 0 0 0 0;\n",
              "      width: 32px;\n",
              "    }\n",
              "\n",
              "    .colab-df-convert:hover {\n",
              "      background-color: #E2EBFA;\n",
              "      box-shadow: 0px 1px 2px rgba(60, 64, 67, 0.3), 0px 1px 3px 1px rgba(60, 64, 67, 0.15);\n",
              "      fill: #174EA6;\n",
              "    }\n",
              "\n",
              "    [theme=dark] .colab-df-convert {\n",
              "      background-color: #3B4455;\n",
              "      fill: #D2E3FC;\n",
              "    }\n",
              "\n",
              "    [theme=dark] .colab-df-convert:hover {\n",
              "      background-color: #434B5C;\n",
              "      box-shadow: 0px 1px 3px 1px rgba(0, 0, 0, 0.15);\n",
              "      filter: drop-shadow(0px 1px 2px rgba(0, 0, 0, 0.3));\n",
              "      fill: #FFFFFF;\n",
              "    }\n",
              "  </style>\n",
              "\n",
              "      <script>\n",
              "        const buttonEl =\n",
              "          document.querySelector('#df-ad651369-c479-42d4-95ec-cd4a6f1511b1 button.colab-df-convert');\n",
              "        buttonEl.style.display =\n",
              "          google.colab.kernel.accessAllowed ? 'block' : 'none';\n",
              "\n",
              "        async function convertToInteractive(key) {\n",
              "          const element = document.querySelector('#df-ad651369-c479-42d4-95ec-cd4a6f1511b1');\n",
              "          const dataTable =\n",
              "            await google.colab.kernel.invokeFunction('convertToInteractive',\n",
              "                                                     [key], {});\n",
              "          if (!dataTable) return;\n",
              "\n",
              "          const docLinkHtml = 'Like what you see? Visit the ' +\n",
              "            '<a target=\"_blank\" href=https://colab.research.google.com/notebooks/data_table.ipynb>data table notebook</a>'\n",
              "            + ' to learn more about interactive tables.';\n",
              "          element.innerHTML = '';\n",
              "          dataTable['output_type'] = 'display_data';\n",
              "          await google.colab.output.renderOutput(dataTable, element);\n",
              "          const docLink = document.createElement('div');\n",
              "          docLink.innerHTML = docLinkHtml;\n",
              "          element.appendChild(docLink);\n",
              "        }\n",
              "      </script>\n",
              "    </div>\n",
              "  </div>\n",
              "  "
            ]
          },
          "metadata": {},
          "execution_count": 79
        }
      ]
    },
    {
      "cell_type": "code",
      "source": [
        "data = df.to_numpy()\n",
        "nrow,ncol = data.shape\n",
        "y = data[:,-1]\n",
        "X = data[:,0:ncol-1]\n",
        "\n",
        "# divide o conjunto em treinamento e teste\n",
        "p = 0.3 # fracao e elementos no conjnto de teste\n",
        "x_train, x_test, y_train, y_test = train_test_split(X, y, test_size = p, random_state = 42)\n",
        "\n",
        "# modelo de regressão linear múltipla\n",
        "lm = LinearRegression()\n",
        "lm.fit(x_train, y_train)\n",
        "\n",
        "y_pred = lm.predict(x_test)\n",
        "\n",
        "fig = plt.figure()\n",
        "l = plt.plot(y_pred, y_test, 'bo')\n",
        "plt.setp(l, markersize=10)\n",
        "plt.setp(l, markerfacecolor='C0')\n",
        "\n",
        "plt.ylabel(\"y\", fontsize=15)\n",
        "plt.xlabel(\"Prediction\", fontsize=15)\n",
        "\n",
        "# mostra os valores preditos e originais\n",
        "xl = np.arange(min(y_test), 1.2*max(y_test),(max(y_test)-min(y_test))/10)\n",
        "yl = xl\n",
        "plt.plot(xl, yl, 'r--')\n",
        "\n",
        "plt.show(True)\n",
        "# salva a figura em um arquivo\n",
        "fig.savefig('regression-LR.jpg')"
      ],
      "metadata": {
        "colab": {
          "base_uri": "https://localhost:8080/",
          "height": 284
        },
        "id": "9OnCN_XYmxvz",
        "outputId": "28b2265b-065e-4fd6-a7c1-eebdc51b74ab"
      },
      "execution_count": null,
      "outputs": [
        {
          "output_type": "display_data",
          "data": {
            "text/plain": [
              "<Figure size 432x288 with 1 Axes>"
            ],
            "image/png": "[encoded data removed]"
          },
          "metadata": {
            "needs_background": "light"
          }
        }
      ]
    },
    {
      "cell_type": "code",
      "source": [
        "R2 = r2_score(y_test, y_pred)\n",
        "print('R2:', R2)"
      ],
      "metadata": {
        "colab": {
          "base_uri": "https://localhost:8080/"
        },
        "id": "yFqYw9Lqt8zq",
        "outputId": "4015f7fd-0763-481b-a983-10ec49dac554"
      },
      "execution_count": null,
      "outputs": [
        {
          "output_type": "stream",
          "name": "stdout",
          "text": [
            "R2: 0.7112260057484974\n"
          ]
        }
      ]
    },
    {
      "cell_type": "code",
      "source": [
        "# Inferência sobre os parâmetros\n",
        "# H0: não há relação entre x e y\n",
        "# H1: existe relação entre x e y\n",
        "\n",
        "ylabel = df.columns[-1]\n",
        "\n",
        "# monta o modelo: y ~ x1 + x2 + ...\n",
        "model_string =  df.columns[0]\n",
        "features = df.columns[1:-1]\n",
        "for s in features:\n",
        "    model_string = model_string + '+' + s\n",
        "model_string = df.columns[-1] + '~' + model_string\n",
        "print('Modelo as ser ajustado: ', model_string)\n",
        "\n",
        "model = ols(model_string, df).fit()\n",
        "print(model.summary())"
      ],
      "metadata": {
        "colab": {
          "base_uri": "https://localhost:8080/"
        },
        "id": "ofWiD0b2nepH",
        "outputId": "9b75731b-4ec5-4aa7-97d8-42420db24dd3"
      },
      "execution_count": null,
      "outputs": [
        {
          "output_type": "stream",
          "name": "stdout",
          "text": [
            "Modelo as ser ajustado:  medv~crim+zn+indus+chas+nox+rm+age+dis+rad+tax+ptratio+b+lstat\n",
            "                            OLS Regression Results                            \n",
            "==============================================================================\n",
            "Dep. Variable:                   medv   R-squared:                       0.741\n",
            "Model:                            OLS   Adj. R-squared:                  0.734\n",
            "Method:                 Least Squares   F-statistic:                     108.1\n",
            "Date:                Fri, 20 Jan 2023   Prob (F-statistic):          6.72e-135\n",
            "Time:                        01:48:30   Log-Likelihood:                -1498.8\n",
            "No. Observations:                 506   AIC:                             3026.\n",
            "Df Residuals:                     492   BIC:                             3085.\n",
            "Df Model:                          13                                         \n",
            "Covariance Type:            nonrobust                                         \n",
            "==============================================================================\n",
            "                 coef    std err          t      P>|t|      [0.025      0.975]\n",
            "------------------------------------------------------------------------------\n",
            "Intercept     36.4595      5.103      7.144      0.000      26.432      46.487\n",
            "crim          -0.1080      0.033     -3.287      0.001      -0.173      -0.043\n",
            "zn             0.0464      0.014      3.382      0.001       0.019       0.073\n",
            "indus          0.0206      0.061      0.334      0.738      -0.100       0.141\n",
            "chas           2.6867      0.862      3.118      0.002       0.994       4.380\n",
            "nox          -17.7666      3.820     -4.651      0.000     -25.272     -10.262\n",
            "rm             3.8099      0.418      9.116      0.000       2.989       4.631\n",
            "age            0.0007      0.013      0.052      0.958      -0.025       0.027\n",
            "dis           -1.4756      0.199     -7.398      0.000      -1.867      -1.084\n",
            "rad            0.3060      0.066      4.613      0.000       0.176       0.436\n",
            "tax           -0.0123      0.004     -3.280      0.001      -0.020      -0.005\n",
            "ptratio       -0.9527      0.131     -7.283      0.000      -1.210      -0.696\n",
            "b              0.0093      0.003      3.467      0.001       0.004       0.015\n",
            "lstat         -0.5248      0.051    -10.347      0.000      -0.624      -0.425\n",
            "==============================================================================\n",
            "Omnibus:                      178.041   Durbin-Watson:                   1.078\n",
            "Prob(Omnibus):                  0.000   Jarque-Bera (JB):              783.126\n",
            "Skew:                           1.521   Prob(JB):                    8.84e-171\n",
            "Kurtosis:                       8.281   Cond. No.                     1.51e+04\n",
            "==============================================================================\n",
            "\n",
            "Notes:\n",
            "[1] Standard Errors assume that the covariance matrix of the errors is correctly specified.\n",
            "[2] The condition number is large, 1.51e+04. This might indicate that there are\n",
            "strong multicollinearity or other numerical problems.\n"
          ]
        }
      ]
    },
    {
      "cell_type": "code",
      "source": [
        "plt.figure(figsize=(10,8))\n",
        "residuals = model.resid\n",
        "\n",
        "plt.hist(residuals, bins=20, color = 'gray', histtype='bar', ec='black')\n",
        "plt.xlabel('x', fontsize = 20)\n",
        "plt.ylabel('P(x)',fontsize = 20)\n",
        "plt.show(True)"
      ],
      "metadata": {
        "colab": {
          "base_uri": "https://localhost:8080/",
          "height": 506
        },
        "id": "CMa-K8XCsxsO",
        "outputId": "2b493f59-4530-4d69-cf07-1165095bb73f"
      },
      "execution_count": null,
      "outputs": [
        {
          "output_type": "display_data",
          "data": {
            "text/plain": [
              "<Figure size 720x576 with 1 Axes>"
            ],
            "image/png": "[encoded data removed]"
          },
          "metadata": {
            "needs_background": "light"
          }
        }
      ]
    },
    {
      "cell_type": "code",
      "source": [
        "plt.figure(figsize=(10,8))\n",
        "ss.probplot(np.sort(residuals), dist=\"norm\",plot=plt)\n",
        "\n",
        "plt.xlabel('Quantis teóricos', fontsize = 20)\n",
        "plt.ylabel('Valores ordenados',fontsize = 20)\n",
        "plt.savefig('QQ.svg')\n",
        "plt.show(True)"
      ],
      "metadata": {
        "colab": {
          "base_uri": "https://localhost:8080/",
          "height": 522
        },
        "id": "1Df5Wf5HtTxj",
        "outputId": "2329ac1c-4414-4ab2-d742-69db8600f00d"
      },
      "execution_count": null,
      "outputs": [
        {
          "output_type": "display_data",
          "data": {
            "text/plain": [
              "<Figure size 720x576 with 1 Axes>"
            ],
            "image/png": "[encoded data removed]"
          },
          "metadata": {
            "needs_background": "light"
          }
        }
      ]
    },
    {
      "cell_type": "code",
      "source": [
        "# Resíduos\n",
        "\n",
        "plt.figure(figsize=(10,8))\n",
        "\n",
        "plt.scatter(model.fittedvalues, residuals,color='black')\n",
        "plt.axhline(y = 0, color = 'gray', linestyle = '--')\n",
        "plt.xlabel('Valores preditos',fontsize = 20)\n",
        "plt.ylabel('Resíduos', fontsize = 20)\n",
        "plt.savefig('residuos-diagnosis.svg')\n",
        "plt.show(True)\n",
        "plt.show(True)"
      ],
      "metadata": {
        "colab": {
          "base_uri": "https://localhost:8080/",
          "height": 506
        },
        "id": "OId4V7Aiuz25",
        "outputId": "e6f672c7-efbf-4eb8-aa1f-49a6aed87b90"
      },
      "execution_count": null,
      "outputs": [
        {
          "output_type": "display_data",
          "data": {
            "text/plain": [
              "<Figure size 720x576 with 1 Axes>"
            ],
            "image/png": "[encoded data removed]"
          },
          "metadata": {
            "needs_background": "light"
          }
        }
      ]
    },
    {
      "cell_type": "code",
      "source": [
        "# 3\n",
        "\n",
        "df = pd.read_csv('data/Advertising.csv')\n",
        "df"
      ],
      "metadata": {
        "colab": {
          "base_uri": "https://localhost:8080/",
          "height": 424
        },
        "id": "s2fzCaHusngZ",
        "outputId": "73e3bdb4-4371-46d4-bad6-f1b48c125aaa"
      },
      "execution_count": null,
      "outputs": [
        {
          "output_type": "execute_result",
          "data": {
            "text/plain": [
              "     Unnamed: 0     TV  radio  newspaper  sales\n",
              "0             1  230.1   37.8       69.2   22.1\n",
              "1             2   44.5   39.3       45.1   10.4\n",
              "2             3   17.2   45.9       69.3    9.3\n",
              "3             4  151.5   41.3       58.5   18.5\n",
              "4             5  180.8   10.8       58.4   12.9\n",
              "..          ...    ...    ...        ...    ...\n",
              "195         196   38.2    3.7       13.8    7.6\n",
              "196         197   94.2    4.9        8.1    9.7\n",
              "197         198  177.0    9.3        6.4   12.8\n",
              "198         199  283.6   42.0       66.2   25.5\n",
              "199         200  232.1    8.6        8.7   13.4\n",
              "\n",
              "[200 rows x 5 columns]"
            ],
            "text/html": [
              "\n",
              "  <div id=\"df-c50b2f5d-f9af-490d-9fdd-73ca3102951c\">\n",
              "    <div class=\"colab-df-container\">\n",
              "      <div>\n",
              "<style scoped>\n",
              "    .dataframe tbody tr th:only-of-type {\n",
              "        vertical-align: middle;\n",
              "    }\n",
              "\n",
              "    .dataframe tbody tr th {\n",
              "        vertical-align: top;\n",
              "    }\n",
              "\n",
              "    .dataframe thead th {\n",
              "        text-align: right;\n",
              "    }\n",
              "</style>\n",
              "<table border=\"1\" class=\"dataframe\">\n",
              "  <thead>\n",
              "    <tr style=\"text-align: right;\">\n",
              "      <th></th>\n",
              "      <th>Unnamed: 0</th>\n",
              "      <th>TV</th>\n",
              "      <th>radio</th>\n",
              "      <th>newspaper</th>\n",
              "      <th>sales</th>\n",
              "    </tr>\n",
              "  </thead>\n",
              "  <tbody>\n",
              "    <tr>\n",
              "      <th>0</th>\n",
              "      <td>1</td>\n",
              "      <td>230.1</td>\n",
              "      <td>37.8</td>\n",
              "      <td>69.2</td>\n",
              "      <td>22.1</td>\n",
              "    </tr>\n",
              "    <tr>\n",
              "      <th>1</th>\n",
              "      <td>2</td>\n",
              "      <td>44.5</td>\n",
              "      <td>39.3</td>\n",
              "      <td>45.1</td>\n",
              "      <td>10.4</td>\n",
              "    </tr>\n",
              "    <tr>\n",
              "      <th>2</th>\n",
              "      <td>3</td>\n",
              "      <td>17.2</td>\n",
              "      <td>45.9</td>\n",
              "      <td>69.3</td>\n",
              "      <td>9.3</td>\n",
              "    </tr>\n",
              "    <tr>\n",
              "      <th>3</th>\n",
              "      <td>4</td>\n",
              "      <td>151.5</td>\n",
              "      <td>41.3</td>\n",
              "      <td>58.5</td>\n",
              "      <td>18.5</td>\n",
              "    </tr>\n",
              "    <tr>\n",
              "      <th>4</th>\n",
              "      <td>5</td>\n",
              "      <td>180.8</td>\n",
              "      <td>10.8</td>\n",
              "      <td>58.4</td>\n",
              "      <td>12.9</td>\n",
              "    </tr>\n",
              "    <tr>\n",
              "      <th>...</th>\n",
              "      <td>...</td>\n",
              "      <td>...</td>\n",
              "      <td>...</td>\n",
              "      <td>...</td>\n",
              "      <td>...</td>\n",
              "    </tr>\n",
              "    <tr>\n",
              "      <th>195</th>\n",
              "      <td>196</td>\n",
              "      <td>38.2</td>\n",
              "      <td>3.7</td>\n",
              "      <td>13.8</td>\n",
              "      <td>7.6</td>\n",
              "    </tr>\n",
              "    <tr>\n",
              "      <th>196</th>\n",
              "      <td>197</td>\n",
              "      <td>94.2</td>\n",
              "      <td>4.9</td>\n",
              "      <td>8.1</td>\n",
              "      <td>9.7</td>\n",
              "    </tr>\n",
              "    <tr>\n",
              "      <th>197</th>\n",
              "      <td>198</td>\n",
              "      <td>177.0</td>\n",
              "      <td>9.3</td>\n",
              "      <td>6.4</td>\n",
              "      <td>12.8</td>\n",
              "    </tr>\n",
              "    <tr>\n",
              "      <th>198</th>\n",
              "      <td>199</td>\n",
              "      <td>283.6</td>\n",
              "      <td>42.0</td>\n",
              "      <td>66.2</td>\n",
              "      <td>25.5</td>\n",
              "    </tr>\n",
              "    <tr>\n",
              "      <th>199</th>\n",
              "      <td>200</td>\n",
              "      <td>232.1</td>\n",
              "      <td>8.6</td>\n",
              "      <td>8.7</td>\n",
              "      <td>13.4</td>\n",
              "    </tr>\n",
              "  </tbody>\n",
              "</table>\n",
              "<p>200 rows × 5 columns</p>\n",
              "</div>\n",
              "      <button class=\"colab-df-convert\" onclick=\"convertToInteractive('df-c50b2f5d-f9af-490d-9fdd-73ca3102951c')\"\n",
              "              title=\"Convert this dataframe to an interactive table.\"\n",
              "              style=\"display:none;\">\n",
              "        \n",
              "  <svg xmlns=\"http://www.w3.org/2000/svg\" height=\"24px\"viewBox=\"0 0 24 24\"\n",
              "       width=\"24px\">\n",
              "    <path d=\"M0 0h24v24H0V0z\" fill=\"none\"/>\n",
              "    <path d=\"M18.56 5.44l.94 2.06.94-2.06 2.06-.94-2.06-.94-.94-2.06-.94 2.06-2.06.94zm-11 1L8.5 8.5l.94-2.06 2.06-.94-2.06-.94L8.5 2.5l-.94 2.06-2.06.94zm10 10l.94 2.06.94-2.06 2.06-.94-2.06-.94-.94-2.06-.94 2.06-2.06.94z\"/><path d=\"M17.41 7.96l-1.37-1.37c-.4-.4-.92-.59-1.43-.59-.52 0-1.04.2-1.43.59L10.3 9.45l-7.72 7.72c-.78.78-.78 2.05 0 2.83L4 21.41c.39.39.9.59 1.41.59.51 0 1.02-.2 1.41-.59l7.78-7.78 2.81-2.81c.8-.78.8-2.07 0-2.86zM5.41 20L4 18.59l7.72-7.72 1.47 1.35L5.41 20z\"/>\n",
              "  </svg>\n",
              "      </button>\n",
              "      \n",
              "  <style>\n",
              "    .colab-df-container {\n",
              "      display:flex;\n",
              "      flex-wrap:wrap;\n",
              "      gap: 12px;\n",
              "    }\n",
              "\n",
              "    .colab-df-convert {\n",
              "      background-color: #E8F0FE;\n",
              "      border: none;\n",
              "      border-radius: 50%;\n",
              "      cursor: pointer;\n",
              "      display: none;\n",
              "      fill: #1967D2;\n",
              "      height: 32px;\n",
              "      padding: 0 0 0 0;\n",
              "      width: 32px;\n",
              "    }\n",
              "\n",
              "    .colab-df-convert:hover {\n",
              "      background-color: #E2EBFA;\n",
              "      box-shadow: 0px 1px 2px rgba(60, 64, 67, 0.3), 0px 1px 3px 1px rgba(60, 64, 67, 0.15);\n",
              "      fill: #174EA6;\n",
              "    }\n",
              "\n",
              "    [theme=dark] .colab-df-convert {\n",
              "      background-color: #3B4455;\n",
              "      fill: #D2E3FC;\n",
              "    }\n",
              "\n",
              "    [theme=dark] .colab-df-convert:hover {\n",
              "      background-color: #434B5C;\n",
              "      box-shadow: 0px 1px 3px 1px rgba(0, 0, 0, 0.15);\n",
              "      filter: drop-shadow(0px 1px 2px rgba(0, 0, 0, 0.3));\n",
              "      fill: #FFFFFF;\n",
              "    }\n",
              "  </style>\n",
              "\n",
              "      <script>\n",
              "        const buttonEl =\n",
              "          document.querySelector('#df-c50b2f5d-f9af-490d-9fdd-73ca3102951c button.colab-df-convert');\n",
              "        buttonEl.style.display =\n",
              "          google.colab.kernel.accessAllowed ? 'block' : 'none';\n",
              "\n",
              "        async function convertToInteractive(key) {\n",
              "          const element = document.querySelector('#df-c50b2f5d-f9af-490d-9fdd-73ca3102951c');\n",
              "          const dataTable =\n",
              "            await google.colab.kernel.invokeFunction('convertToInteractive',\n",
              "                                                     [key], {});\n",
              "          if (!dataTable) return;\n",
              "\n",
              "          const docLinkHtml = 'Like what you see? Visit the ' +\n",
              "            '<a target=\"_blank\" href=https://colab.research.google.com/notebooks/data_table.ipynb>data table notebook</a>'\n",
              "            + ' to learn more about interactive tables.';\n",
              "          element.innerHTML = '';\n",
              "          dataTable['output_type'] = 'display_data';\n",
              "          await google.colab.output.renderOutput(dataTable, element);\n",
              "          const docLink = document.createElement('div');\n",
              "          docLink.innerHTML = docLinkHtml;\n",
              "          element.appendChild(docLink);\n",
              "        }\n",
              "      </script>\n",
              "    </div>\n",
              "  </div>\n",
              "  "
            ]
          },
          "metadata": {},
          "execution_count": 86
        }
      ]
    },
    {
      "cell_type": "code",
      "source": [
        "data = df.to_numpy()\n",
        "nrow,ncol = data.shape\n",
        "y = data[:,-1]\n",
        "X = data[:,0:ncol-1]\n",
        "\n",
        "# divide o conjunto em treinamento e teste\n",
        "p = 0.3 # fracao e elementos no conjnto de teste\n",
        "x_train, x_test, y_train, y_test = train_test_split(X, y, test_size = p, random_state = 42)\n",
        "\n",
        "# modelo de regressão linear múltipla\n",
        "lm = LinearRegression()\n",
        "lm.fit(x_train, y_train)\n",
        "\n",
        "y_pred = lm.predict(x_test)\n",
        "\n",
        "fig = plt.figure()\n",
        "l = plt.plot(y_pred, y_test, 'bo')\n",
        "plt.setp(l, markersize=10)\n",
        "plt.setp(l, markerfacecolor='C0')\n",
        "\n",
        "plt.ylabel(\"y\", fontsize=15)\n",
        "plt.xlabel(\"Prediction\", fontsize=15)\n",
        "\n",
        "# mostra os valores preditos e originais\n",
        "xl = np.arange(min(y_test), 1.2*max(y_test),(max(y_test)-min(y_test))/10)\n",
        "yl = xl\n",
        "plt.plot(xl, yl, 'r--')\n",
        "\n",
        "plt.show(True)\n",
        "# salva a figura em um arquivo\n",
        "fig.savefig('regression-LR.jpg')"
      ],
      "metadata": {
        "colab": {
          "base_uri": "https://localhost:8080/",
          "height": 284
        },
        "id": "-ugmNIAJvOev",
        "outputId": "f4823c48-e0df-4d34-8ba7-de49ddf15173"
      },
      "execution_count": null,
      "outputs": [
        {
          "output_type": "display_data",
          "data": {
            "text/plain": [
              "<Figure size 432x288 with 1 Axes>"
            ],
            "image/png": "[encoded data removed]"
          },
          "metadata": {
            "needs_background": "light"
          }
        }
      ]
    },
    {
      "cell_type": "code",
      "source": [
        "R2 = r2_score(y_test, y_pred)\n",
        "print('R2:', R2)"
      ],
      "metadata": {
        "colab": {
          "base_uri": "https://localhost:8080/"
        },
        "id": "C2awM0zCwbWF",
        "outputId": "35262628-c769-4663-b7d2-8a3dd5f7389d"
      },
      "execution_count": null,
      "outputs": [
        {
          "output_type": "stream",
          "name": "stdout",
          "text": [
            "R2: 0.8609155416329135\n"
          ]
        }
      ]
    },
    {
      "cell_type": "code",
      "source": [
        "# Eliminando coluna desnecessária\n",
        "\n",
        "data = df.drop(df.columns[[0]], axis = 1)\n",
        "data"
      ],
      "metadata": {
        "colab": {
          "base_uri": "https://localhost:8080/",
          "height": 424
        },
        "id": "z3AAtQckvXuc",
        "outputId": "c5555652-faa3-47ab-864c-c71ffe6ebc67"
      },
      "execution_count": null,
      "outputs": [
        {
          "output_type": "execute_result",
          "data": {
            "text/plain": [
              "        TV  radio  newspaper  sales\n",
              "0    230.1   37.8       69.2   22.1\n",
              "1     44.5   39.3       45.1   10.4\n",
              "2     17.2   45.9       69.3    9.3\n",
              "3    151.5   41.3       58.5   18.5\n",
              "4    180.8   10.8       58.4   12.9\n",
              "..     ...    ...        ...    ...\n",
              "195   38.2    3.7       13.8    7.6\n",
              "196   94.2    4.9        8.1    9.7\n",
              "197  177.0    9.3        6.4   12.8\n",
              "198  283.6   42.0       66.2   25.5\n",
              "199  232.1    8.6        8.7   13.4\n",
              "\n",
              "[200 rows x 4 columns]"
            ],
            "text/html": [
              "\n",
              "  <div id=\"df-b6fb54f4-c3bb-4904-a8fd-c25ea076a2f4\">\n",
              "    <div class=\"colab-df-container\">\n",
              "      <div>\n",
              "<style scoped>\n",
              "    .dataframe tbody tr th:only-of-type {\n",
              "        vertical-align: middle;\n",
              "    }\n",
              "\n",
              "    .dataframe tbody tr th {\n",
              "        vertical-align: top;\n",
              "    }\n",
              "\n",
              "    .dataframe thead th {\n",
              "        text-align: right;\n",
              "    }\n",
              "</style>\n",
              "<table border=\"1\" class=\"dataframe\">\n",
              "  <thead>\n",
              "    <tr style=\"text-align: right;\">\n",
              "      <th></th>\n",
              "      <th>TV</th>\n",
              "      <th>radio</th>\n",
              "      <th>newspaper</th>\n",
              "      <th>sales</th>\n",
              "    </tr>\n",
              "  </thead>\n",
              "  <tbody>\n",
              "    <tr>\n",
              "      <th>0</th>\n",
              "      <td>230.1</td>\n",
              "      <td>37.8</td>\n",
              "      <td>69.2</td>\n",
              "      <td>22.1</td>\n",
              "    </tr>\n",
              "    <tr>\n",
              "      <th>1</th>\n",
              "      <td>44.5</td>\n",
              "      <td>39.3</td>\n",
              "      <td>45.1</td>\n",
              "      <td>10.4</td>\n",
              "    </tr>\n",
              "    <tr>\n",
              "      <th>2</th>\n",
              "      <td>17.2</td>\n",
              "      <td>45.9</td>\n",
              "      <td>69.3</td>\n",
              "      <td>9.3</td>\n",
              "    </tr>\n",
              "    <tr>\n",
              "      <th>3</th>\n",
              "      <td>151.5</td>\n",
              "      <td>41.3</td>\n",
              "      <td>58.5</td>\n",
              "      <td>18.5</td>\n",
              "    </tr>\n",
              "    <tr>\n",
              "      <th>4</th>\n",
              "      <td>180.8</td>\n",
              "      <td>10.8</td>\n",
              "      <td>58.4</td>\n",
              "      <td>12.9</td>\n",
              "    </tr>\n",
              "    <tr>\n",
              "      <th>...</th>\n",
              "      <td>...</td>\n",
              "      <td>...</td>\n",
              "      <td>...</td>\n",
              "      <td>...</td>\n",
              "    </tr>\n",
              "    <tr>\n",
              "      <th>195</th>\n",
              "      <td>38.2</td>\n",
              "      <td>3.7</td>\n",
              "      <td>13.8</td>\n",
              "      <td>7.6</td>\n",
              "    </tr>\n",
              "    <tr>\n",
              "      <th>196</th>\n",
              "      <td>94.2</td>\n",
              "      <td>4.9</td>\n",
              "      <td>8.1</td>\n",
              "      <td>9.7</td>\n",
              "    </tr>\n",
              "    <tr>\n",
              "      <th>197</th>\n",
              "      <td>177.0</td>\n",
              "      <td>9.3</td>\n",
              "      <td>6.4</td>\n",
              "      <td>12.8</td>\n",
              "    </tr>\n",
              "    <tr>\n",
              "      <th>198</th>\n",
              "      <td>283.6</td>\n",
              "      <td>42.0</td>\n",
              "      <td>66.2</td>\n",
              "      <td>25.5</td>\n",
              "    </tr>\n",
              "    <tr>\n",
              "      <th>199</th>\n",
              "      <td>232.1</td>\n",
              "      <td>8.6</td>\n",
              "      <td>8.7</td>\n",
              "      <td>13.4</td>\n",
              "    </tr>\n",
              "  </tbody>\n",
              "</table>\n",
              "<p>200 rows × 4 columns</p>\n",
              "</div>\n",
              "      <button class=\"colab-df-convert\" onclick=\"convertToInteractive('df-b6fb54f4-c3bb-4904-a8fd-c25ea076a2f4')\"\n",
              "              title=\"Convert this dataframe to an interactive table.\"\n",
              "              style=\"display:none;\">\n",
              "        \n",
              "  <svg xmlns=\"http://www.w3.org/2000/svg\" height=\"24px\"viewBox=\"0 0 24 24\"\n",
              "       width=\"24px\">\n",
              "    <path d=\"M0 0h24v24H0V0z\" fill=\"none\"/>\n",
              "    <path d=\"M18.56 5.44l.94 2.06.94-2.06 2.06-.94-2.06-.94-.94-2.06-.94 2.06-2.06.94zm-11 1L8.5 8.5l.94-2.06 2.06-.94-2.06-.94L8.5 2.5l-.94 2.06-2.06.94zm10 10l.94 2.06.94-2.06 2.06-.94-2.06-.94-.94-2.06-.94 2.06-2.06.94z\"/><path d=\"M17.41 7.96l-1.37-1.37c-.4-.4-.92-.59-1.43-.59-.52 0-1.04.2-1.43.59L10.3 9.45l-7.72 7.72c-.78.78-.78 2.05 0 2.83L4 21.41c.39.39.9.59 1.41.59.51 0 1.02-.2 1.41-.59l7.78-7.78 2.81-2.81c.8-.78.8-2.07 0-2.86zM5.41 20L4 18.59l7.72-7.72 1.47 1.35L5.41 20z\"/>\n",
              "  </svg>\n",
              "      </button>\n",
              "      \n",
              "  <style>\n",
              "    .colab-df-container {\n",
              "      display:flex;\n",
              "      flex-wrap:wrap;\n",
              "      gap: 12px;\n",
              "    }\n",
              "\n",
              "    .colab-df-convert {\n",
              "      background-color: #E8F0FE;\n",
              "      border: none;\n",
              "      border-radius: 50%;\n",
              "      cursor: pointer;\n",
              "      display: none;\n",
              "      fill: #1967D2;\n",
              "      height: 32px;\n",
              "      padding: 0 0 0 0;\n",
              "      width: 32px;\n",
              "    }\n",
              "\n",
              "    .colab-df-convert:hover {\n",
              "      background-color: #E2EBFA;\n",
              "      box-shadow: 0px 1px 2px rgba(60, 64, 67, 0.3), 0px 1px 3px 1px rgba(60, 64, 67, 0.15);\n",
              "      fill: #174EA6;\n",
              "    }\n",
              "\n",
              "    [theme=dark] .colab-df-convert {\n",
              "      background-color: #3B4455;\n",
              "      fill: #D2E3FC;\n",
              "    }\n",
              "\n",
              "    [theme=dark] .colab-df-convert:hover {\n",
              "      background-color: #434B5C;\n",
              "      box-shadow: 0px 1px 3px 1px rgba(0, 0, 0, 0.15);\n",
              "      filter: drop-shadow(0px 1px 2px rgba(0, 0, 0, 0.3));\n",
              "      fill: #FFFFFF;\n",
              "    }\n",
              "  </style>\n",
              "\n",
              "      <script>\n",
              "        const buttonEl =\n",
              "          document.querySelector('#df-b6fb54f4-c3bb-4904-a8fd-c25ea076a2f4 button.colab-df-convert');\n",
              "        buttonEl.style.display =\n",
              "          google.colab.kernel.accessAllowed ? 'block' : 'none';\n",
              "\n",
              "        async function convertToInteractive(key) {\n",
              "          const element = document.querySelector('#df-b6fb54f4-c3bb-4904-a8fd-c25ea076a2f4');\n",
              "          const dataTable =\n",
              "            await google.colab.kernel.invokeFunction('convertToInteractive',\n",
              "                                                     [key], {});\n",
              "          if (!dataTable) return;\n",
              "\n",
              "          const docLinkHtml = 'Like what you see? Visit the ' +\n",
              "            '<a target=\"_blank\" href=https://colab.research.google.com/notebooks/data_table.ipynb>data table notebook</a>'\n",
              "            + ' to learn more about interactive tables.';\n",
              "          element.innerHTML = '';\n",
              "          dataTable['output_type'] = 'display_data';\n",
              "          await google.colab.output.renderOutput(dataTable, element);\n",
              "          const docLink = document.createElement('div');\n",
              "          docLink.innerHTML = docLinkHtml;\n",
              "          element.appendChild(docLink);\n",
              "        }\n",
              "      </script>\n",
              "    </div>\n",
              "  </div>\n",
              "  "
            ]
          },
          "metadata": {},
          "execution_count": 89
        }
      ]
    },
    {
      "cell_type": "code",
      "source": [
        "data = data.to_numpy()\n",
        "nrow,ncol = data.shape\n",
        "y = data[:,-1]\n",
        "X = data[:,0:ncol-1]\n",
        "\n",
        "# divide o conjunto em treinamento e teste\n",
        "p = 0.3 # fracao e elementos no conjnto de teste\n",
        "x_train, x_test, y_train, y_test = train_test_split(X, y, test_size = p, random_state = 42)\n",
        "\n",
        "# modelo de regressão linear múltipla\n",
        "lm = LinearRegression()\n",
        "lm.fit(x_train, y_train)\n",
        "\n",
        "y_pred = lm.predict(x_test)\n",
        "\n",
        "fig = plt.figure()\n",
        "l = plt.plot(y_pred, y_test, 'bo')\n",
        "plt.setp(l, markersize=10)\n",
        "plt.setp(l, markerfacecolor='C0')\n",
        "\n",
        "plt.ylabel(\"y\", fontsize=15)\n",
        "plt.xlabel(\"Prediction\", fontsize=15)\n",
        "\n",
        "# mostra os valores preditos e originais\n",
        "xl = np.arange(min(y_test), 1.2*max(y_test),(max(y_test)-min(y_test))/10)\n",
        "yl = xl\n",
        "plt.plot(xl, yl, 'r--')\n",
        "\n",
        "plt.show(True)\n",
        "# salva a figura em um arquivo\n",
        "fig.savefig('regression-LR.jpg')"
      ],
      "metadata": {
        "colab": {
          "base_uri": "https://localhost:8080/",
          "height": 284
        },
        "id": "snoR-IDEwO9N",
        "outputId": "ddedef72-1d60-4f41-f690-7e5457c00401"
      },
      "execution_count": null,
      "outputs": [
        {
          "output_type": "display_data",
          "data": {
            "text/plain": [
              "<Figure size 432x288 with 1 Axes>"
            ],
            "image/png": "[encoded data removed]"
          },
          "metadata": {
            "needs_background": "light"
          }
        }
      ]
    },
    {
      "cell_type": "code",
      "source": [
        "R2 = r2_score(y_test, y_pred)\n",
        "print('R2:', R2)"
      ],
      "metadata": {
        "colab": {
          "base_uri": "https://localhost:8080/"
        },
        "id": "p2-PNwiCwkkT",
        "outputId": "7503b65b-83e6-4e48-e189-cad3dc6c63a5"
      },
      "execution_count": null,
      "outputs": [
        {
          "output_type": "stream",
          "name": "stdout",
          "text": [
            "R2: 0.8609466508230367\n"
          ]
        }
      ]
    },
    {
      "cell_type": "code",
      "source": [
        "# Inferência sobre os parâmetros\n",
        "# H0: não há relação entre x e y\n",
        "# H1: existe relação entre x e y\n",
        "\n",
        "ylabel = df.columns[-1]\n",
        "\n",
        "# monta o modelo: y ~ x1 + x2 + ...\n",
        "model_string =  df.columns[0]\n",
        "features = df.columns[1:-1]\n",
        "for s in features:\n",
        "    model_string = model_string + '+' + s\n",
        "model_string = df.columns[-1] + '~' + model_string\n",
        "print('Modelo as ser ajustado: ', model_string)\n",
        "\n",
        "model = ols(model_string, df).fit()\n",
        "print(model.summary())"
      ],
      "metadata": {
        "colab": {
          "base_uri": "https://localhost:8080/"
        },
        "id": "uhkXmiIaw-2K",
        "outputId": "2ca9ec65-d026-49e2-da56-c94a167462b9"
      },
      "execution_count": null,
      "outputs": [
        {
          "output_type": "stream",
          "name": "stdout",
          "text": [
            "Modelo as ser ajustado:  sales~Unnamed: 0+TV+radio+newspaper\n",
            "                            OLS Regression Results                            \n",
            "==============================================================================\n",
            "Dep. Variable:                  sales   R-squared:                       0.897\n",
            "Model:                            OLS   Adj. R-squared:                  0.896\n",
            "Method:                 Least Squares   F-statistic:                     570.3\n",
            "Date:                Fri, 20 Jan 2023   Prob (F-statistic):           1.58e-96\n",
            "Time:                        01:48:32   Log-Likelihood:                -386.18\n",
            "No. Observations:                 200   AIC:                             780.4\n",
            "Df Residuals:                     196   BIC:                             793.6\n",
            "Df Model:                           3                                         \n",
            "Covariance Type:            nonrobust                                         \n",
            "==============================================================================\n",
            "                 coef    std err          t      P>|t|      [0.025      0.975]\n",
            "------------------------------------------------------------------------------\n",
            "Intercept      2.9389      0.312      9.422      0.000       2.324       3.554\n",
            "TV             0.0458      0.001     32.809      0.000       0.043       0.049\n",
            "radio          0.1885      0.009     21.893      0.000       0.172       0.206\n",
            "newspaper     -0.0010      0.006     -0.177      0.860      -0.013       0.011\n",
            "==============================================================================\n",
            "Omnibus:                       60.414   Durbin-Watson:                   2.084\n",
            "Prob(Omnibus):                  0.000   Jarque-Bera (JB):              151.241\n",
            "Skew:                          -1.327   Prob(JB):                     1.44e-33\n",
            "Kurtosis:                       6.332   Cond. No.                         454.\n",
            "==============================================================================\n",
            "\n",
            "Notes:\n",
            "[1] Standard Errors assume that the covariance matrix of the errors is correctly specified.\n"
          ]
        }
      ]
    },
    {
      "cell_type": "code",
      "source": [
        "plt.figure(figsize=(10,8))\n",
        "residuals = model.resid\n",
        "\n",
        "plt.hist(residuals, bins=20, color = 'gray', histtype='bar', ec='black')\n",
        "plt.xlabel('x', fontsize = 20)\n",
        "plt.ylabel('P(x)',fontsize = 20)\n",
        "plt.show(True)"
      ],
      "metadata": {
        "colab": {
          "base_uri": "https://localhost:8080/",
          "height": 506
        },
        "id": "Fe4jgHS4xP02",
        "outputId": "c6ba0ce1-c041-43e0-a653-7881a2bd3583"
      },
      "execution_count": null,
      "outputs": [
        {
          "output_type": "display_data",
          "data": {
            "text/plain": [
              "<Figure size 720x576 with 1 Axes>"
            ],
            "image/png": "[encoded data removed]"
          },
          "metadata": {
            "needs_background": "light"
          }
        }
      ]
    },
    {
      "cell_type": "code",
      "source": [
        "plt.figure(figsize=(10,6))\n",
        "ss.probplot(np.sort(residuals), dist=\"norm\",plot=plt)\n",
        "\n",
        "plt.xlabel('Quantis teóricos', fontsize = 20)\n",
        "plt.ylabel('Valores ordenados',fontsize = 20)\n",
        "plt.savefig('QQ.svg')\n",
        "plt.show(True)"
      ],
      "metadata": {
        "colab": {
          "base_uri": "https://localhost:8080/",
          "height": 413
        },
        "id": "oM2_0of8xZ3l",
        "outputId": "b0e54289-6c0e-4f3d-c6b7-809b3ff9abbd"
      },
      "execution_count": null,
      "outputs": [
        {
          "output_type": "display_data",
          "data": {
            "text/plain": [
              "<Figure size 720x432 with 1 Axes>"
            ],
            "image/png": "[encoded data removed]"
          },
          "metadata": {
            "needs_background": "light"
          }
        }
      ]
    },
    {
      "cell_type": "code",
      "source": [
        "# Resíduos\n",
        "\n",
        "plt.figure(figsize=(10,8))\n",
        "\n",
        "plt.scatter(model.fittedvalues, residuals,color='black')\n",
        "plt.axhline(y = 0, color = 'gray', linestyle = '--')\n",
        "plt.xlabel('Valores preditos',fontsize = 20)\n",
        "plt.ylabel('Resíduos', fontsize = 20)\n",
        "plt.savefig('residuos-diagnosis.svg')\n",
        "plt.show(True)\n",
        "plt.show(True)"
      ],
      "metadata": {
        "colab": {
          "base_uri": "https://localhost:8080/",
          "height": 506
        },
        "id": "244NORDxxvg3",
        "outputId": "0af798a9-7633-4382-d51b-d4f5d65ef8af"
      },
      "execution_count": null,
      "outputs": [
        {
          "output_type": "display_data",
          "data": {
            "text/plain": [
              "<Figure size 720x576 with 1 Axes>"
            ],
            "image/png": "[encoded data removed]"
          },
          "metadata": {
            "needs_background": "light"
          }
        }
      ]
    }
  ]
}